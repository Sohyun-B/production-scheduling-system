{
 "cells": [
  {
   "cell_type": "markdown",
   "metadata": {},
   "source": [
    "# 스케줄링 결과 비교 분석\n",
    "Level 4 전략과 기존 방식(main.py) 간의 스케줄링 결과 차이점 분석"
   ]
  },
  {
   "cell_type": "code",
   "execution_count": 4,
   "metadata": {},
   "outputs": [],
   "source": [
    "import pandas as pd\n",
    "import numpy as np\n",
    "import matplotlib.pyplot as plt\n",
    "import seaborn as sns\n",
    "from datetime import datetime\n",
    "import warnings\n",
    "warnings.filterwarnings('ignore')\n",
    "\n",
    "# 한글 폰트 설정\n",
    "plt.rcParams['font.family'] = ['Malgun Gothic', 'DejaVu Sans']\n",
    "plt.rcParams['axes.unicode_minus'] = False"
   ]
  },
  {
   "cell_type": "markdown",
   "metadata": {},
   "source": [
    "## 1. 데이터 로딩"
   ]
  },
  {
   "cell_type": "code",
   "execution_count": 5,
   "metadata": {},
   "outputs": [
    {
     "name": "stdout",
     "output_type": "stream",
     "text": [
      "데이터 로딩 완료!\n",
      "Level 4 - 주문 수: 173, 작업 수: 474\n",
      "Main.py - 주문 수: 173, 작업 수: 474\n"
     ]
    }
   ],
   "source": [
    "# Level 4 결과 로딩\n",
    "level4_summary = pd.read_excel('level4_스케줄링결과.xlsx', sheet_name='주문_생산_요약본')\n",
    "level4_info = pd.read_excel('level4_스케줄링결과.xlsx', sheet_name='주문_생산_정보')\n",
    "level4_machine = pd.read_excel('level4_스케줄링결과.xlsx', sheet_name='호기_정보')\n",
    "\n",
    "# 기존 방식 결과 로딩\n",
    "main_summary = pd.read_excel('0821스케줄링결과.xlsx', sheet_name='주문_생산_요약본')\n",
    "main_info = pd.read_excel('0821스케줄링결과.xlsx', sheet_name='주문_생산_정보')\n",
    "main_machine = pd.read_excel('0821스케줄링결과.xlsx', sheet_name='호기_정보')\n",
    "\n",
    "print(\"데이터 로딩 완료!\")\n",
    "print(f\"Level 4 - 주문 수: {len(level4_summary)}, 작업 수: {len(level4_machine)}\")\n",
    "print(f\"Main.py - 주문 수: {len(main_summary)}, 작업 수: {len(main_machine)}\")"
   ]
  },
  {
   "cell_type": "markdown",
   "metadata": {},
   "source": [
    "## 3. 작업 순서 비교"
   ]
  },
  {
   "cell_type": "code",
   "execution_count": 7,
   "metadata": {},
   "outputs": [
    {
     "name": "stdout",
     "output_type": "stream",
     "text": [
      "=== 작업 순서 차이 분석 ===\n",
      "전체 기계 수 - Level4: 0, Main: 5\n",
      "공통 기계 수: 0\n",
      "순서가 다른 기계 수: 0\n"
     ]
    }
   ],
   "source": [
    "# 작업 순서 비교를 위한 데이터 정리\n",
    "def compare_work_sequences():\n",
    "    # 각 기계별 작업 순서 추출\n",
    "    def get_machine_sequences(machine_df):\n",
    "        sequences = {}\n",
    "        machine_col = '기계코드' if '기계코드' in machine_df.columns else ('호기' if '호기' in machine_df.columns else '기계인덱스')\n",
    "        \n",
    "        for machine in machine_df[machine_col].unique():\n",
    "            if pd.isna(machine):\n",
    "                continue\n",
    "            machine_jobs = machine_df[machine_df[machine_col] == machine].sort_values('작업 시작 시간')\n",
    "            sequences[machine] = machine_jobs['ID'].tolist()\n",
    "        return sequences\n",
    "    \n",
    "    level4_sequences = get_machine_sequences(level4_machine)\n",
    "    main_sequences = get_machine_sequences(main_machine)\n",
    "    \n",
    "    # 공통 기계들에 대해 순서 차이 분석\n",
    "    common_machines = set(level4_sequences.keys()) & set(main_sequences.keys())\n",
    "    \n",
    "    sequence_diff = {}\n",
    "    for machine in common_machines:\n",
    "        level4_seq = level4_sequences[machine]\n",
    "        main_seq = main_sequences[machine]\n",
    "        \n",
    "        # 순서가 다른지 확인\n",
    "        if level4_seq != main_seq:\n",
    "            sequence_diff[machine] = {\n",
    "                'level4': level4_seq,\n",
    "                'main': main_seq,\n",
    "                'level4_count': len(level4_seq),\n",
    "                'main_count': len(main_seq)\n",
    "            }\n",
    "    \n",
    "    print(f\"=== 작업 순서 차이 분석 ===\")\n",
    "    print(f\"전체 기계 수 - Level4: {len(level4_sequences)}, Main: {len(main_sequences)}\")\n",
    "    print(f\"공통 기계 수: {len(common_machines)}\")\n",
    "    print(f\"순서가 다른 기계 수: {len(sequence_diff)}\")\n",
    "    \n",
    "    return sequence_diff\n",
    "\n",
    "sequence_differences = compare_work_sequences()"
   ]
  },
  {
   "cell_type": "markdown",
   "metadata": {},
   "source": [
    "## 4. 기계별 작업량 비교"
   ]
  },
  {
   "cell_type": "code",
   "execution_count": null,
   "metadata": {},
   "outputs": [],
   "source": [
    "# 기계별 작업량 분석\n",
    "def analyze_machine_workload():\n",
    "    def get_machine_workload(machine_df):\n",
    "        machine_col = '기계코드' if '기계코드' in machine_df.columns else ('호기' if '호기' in machine_df.columns else '기계인덱스')\n",
    "        \n",
    "        workload = machine_df.groupby(machine_col).agg({\n",
    "            'ID': 'count',  # 작업 개수\n",
    "            '작업시간': 'sum' if '작업시간' in machine_df.columns else 'count',  # 총 작업시간\n",
    "            '생산길이': 'sum' if '생산길이' in machine_df.columns else 'count'  # 총 생산길이\n",
    "        }).rename(columns={'ID': '작업_개수'})\n",
    "        \n",
    "        return workload\n",
    "    \n",
    "    level4_workload = get_machine_workload(level4_machine)\n",
    "    main_workload = get_machine_workload(main_machine)\n",
    "    \n",
    "    # 작업량 비교\n",
    "    workload_comparison = pd.merge(level4_workload, main_workload, \n",
    "                                 left_index=True, right_index=True, \n",
    "                                 suffixes=('_level4', '_main'), how='outer')\n",
    "    \n",
    "    # 차이 계산\n",
    "    workload_comparison['작업개수_차이'] = workload_comparison['작업_개수_level4'] - workload_comparison['작업_개수_main']\n",
    "    if '작업시간_level4' in workload_comparison.columns:\n",
    "        workload_comparison['작업시간_차이'] = workload_comparison['작업시간_level4'] - workload_comparison['작업시간_main']\n",
    "    \n",
    "    print(\"=== 기계별 작업량 비교 ===\")\n",
    "    print(workload_comparison.fillna(0))\n",
    "    \n",
    "    return workload_comparison\n",
    "\n",
    "workload_comparison = analyze_machine_workload()"
   ]
  },
  {
   "cell_type": "markdown",
   "metadata": {},
   "source": [
    "## 5. 특정 주문의 스케줄링 차이 분석"
   ]
  },
  {
   "cell_type": "code",
   "execution_count": null,
   "metadata": {},
   "outputs": [],
   "source": [
    "# 특정 주문들의 완료시간 비교\n",
    "def compare_order_completion():\n",
    "    # 주문별 완료시간 비교\n",
    "    def get_completion_times(summary_df):\n",
    "        completion_col = '종료날짜' if '종료날짜' in summary_df.columns else '종료시각'\n",
    "        return summary_df.set_index('P/O NO')[completion_col]\n",
    "    \n",
    "    level4_completion = get_completion_times(level4_summary)\n",
    "    main_completion = get_completion_times(main_summary)\n",
    "    \n",
    "    # 공통 주문들 비교\n",
    "    common_orders = set(level4_completion.index) & set(main_completion.index)\n",
    "    \n",
    "    completion_comparison = pd.DataFrame({\n",
    "        'Level4_완료시간': level4_completion,\n",
    "        'Main_완료시간': main_completion\n",
    "    })\n",
    "    \n",
    "    # 완료시간 차이 계산 (시간 단위)\n",
    "    completion_comparison['시간차이'] = (\n",
    "        pd.to_datetime(completion_comparison['Level4_완료시간']) - \n",
    "        pd.to_datetime(completion_comparison['Main_완료시간'])\n",
    "    ).dt.total_seconds() / 3600  # 시간 단위로 변환\n",
    "    \n",
    "    # 차이가 큰 주문들 찾기\n",
    "    significant_diff = completion_comparison[abs(completion_comparison['시간차이']) > 1]  # 1시간 이상 차이\n",
    "    \n",
    "    print(\"=== 주문별 완료시간 비교 ===\")\n",
    "    print(f\"공통 주문 수: {len(common_orders)}\")\n",
    "    print(f\"1시간 이상 차이나는 주문 수: {len(significant_diff)}\")\n",
    "    print(\"\\n차이가 큰 주문들 (상위 10개):\")\n",
    "    print(significant_diff.nlargest(10, '시간차이')[['시간차이']])\n",
    "    \n",
    "    return completion_comparison\n",
    "\n",
    "completion_comparison = compare_order_completion()"
   ]
  },
  {
   "cell_type": "markdown",
   "metadata": {},
   "source": [
    "## 6. 시각화"
   ]
  },
  {
   "cell_type": "code",
   "execution_count": null,
   "metadata": {},
   "outputs": [],
   "source": [
    "# 6.1 전체 성능 지표 시각화\n",
    "fig, axes = plt.subplots(2, 2, figsize=(15, 10))\n",
    "\n",
    "# Makespan 비교\n",
    "if 'makespan' in comparison_df.index:\n",
    "    makespan_data = comparison_df.loc['makespan', ['Level 4', 'Main.py']]\n",
    "    axes[0,0].bar(makespan_data.index, makespan_data.values, color=['skyblue', 'lightcoral'])\n",
    "    axes[0,0].set_title('Makespan 비교')\n",
    "    axes[0,0].set_ylabel('시간')\n",
    "\n",
    "# 지각 주문 수 비교\n",
    "if 'late_orders' in comparison_df.index:\n",
    "    late_data = comparison_df.loc['late_orders', ['Level 4', 'Main.py']]\n",
    "    axes[0,1].bar(late_data.index, late_data.values, color=['lightgreen', 'salmon'])\n",
    "    axes[0,1].set_title('지각 주문 수 비교')\n",
    "    axes[0,1].set_ylabel('주문 수')\n",
    "\n",
    "# 완료시간 차이 분포\n",
    "if 'time_diff' in completion_comparison.columns or '시간차이' in completion_comparison.columns:\n",
    "    time_diff_col = '시간차이' if '시간차이' in completion_comparison.columns else 'time_diff'\n",
    "    axes[1,0].hist(completion_comparison[time_diff_col].dropna(), bins=30, alpha=0.7, color='purple')\n",
    "    axes[1,0].set_title('주문별 완료시간 차이 분포')\n",
    "    axes[1,0].set_xlabel('시간 차이 (시간)')\n",
    "    axes[1,0].set_ylabel('주문 수')\n",
    "\n",
    "# 기계별 작업량 차이\n",
    "if '작업개수_차이' in workload_comparison.columns:\n",
    "    workload_comparison['작업개수_차이'].plot(kind='bar', ax=axes[1,1], color='orange')\n",
    "    axes[1,1].set_title('기계별 작업 개수 차이')\n",
    "    axes[1,1].set_xlabel('기계')\n",
    "    axes[1,1].set_ylabel('작업 개수 차이')\n",
    "    axes[1,1].tick_params(axis='x', rotation=45)\n",
    "\n",
    "plt.tight_layout()\n",
    "plt.show()"
   ]
  },
  {
   "cell_type": "markdown",
   "metadata": {},
   "source": [
    "## 7. 상세 차이점 분석"
   ]
  },
  {
   "cell_type": "code",
   "execution_count": null,
   "metadata": {},
   "outputs": [],
   "source": [
    "# 가장 큰 차이를 보이는 부분들 분석\n",
    "print(\"=== 주요 차이점 요약 ===\")\n",
    "\n",
    "# 1. 전체 성능 차이\n",
    "if 'makespan' in comparison_df.index:\n",
    "    makespan_diff = comparison_df.loc['makespan', '차이']\n",
    "    makespan_pct = comparison_df.loc['makespan', '차이율(%)']\n",
    "    print(f\"1. Makespan 차이: {makespan_diff:.1f} ({makespan_pct:.1f}%)\")\n",
    "\n",
    "# 2. 지각 관련\n",
    "if 'late_orders' in comparison_df.index:\n",
    "    late_diff = comparison_df.loc['late_orders', '차이']\n",
    "    print(f\"2. 지각 주문 수 차이: {late_diff:.0f}개\")\n",
    "\n",
    "# 3. 순서가 가장 많이 바뀐 기계\n",
    "if sequence_differences:\n",
    "    print(f\"3. 작업 순서가 다른 기계: {len(sequence_differences)}개\")\n",
    "    for machine, diff in list(sequence_differences.items())[:3]:  # 상위 3개만 표시\n",
    "        print(f\"   - {machine}: Level4({diff['level4_count']}개) vs Main({diff['main_count']}개)\")\n",
    "\n",
    "# 4. 작업량 차이가 큰 기계\n",
    "if '작업개수_차이' in workload_comparison.columns:\n",
    "    max_diff_machine = workload_comparison['작업개수_차이'].abs().idxmax()\n",
    "    max_diff_value = workload_comparison.loc[max_diff_machine, '작업개수_차이']\n",
    "    print(f\"4. 작업량 차이가 가장 큰 기계: {max_diff_machine} ({max_diff_value:.0f}개 차이)\")\n",
    "\n",
    "# 5. 완료시간 차이 통계\n",
    "if '시간차이' in completion_comparison.columns:\n",
    "    time_diff_stats = completion_comparison['시간차이'].describe()\n",
    "    print(f\"5. 완료시간 차이 통계:\")\n",
    "    print(f\"   - 평균: {time_diff_stats['mean']:.2f}시간\")\n",
    "    print(f\"   - 최대: {time_diff_stats['max']:.2f}시간\")\n",
    "    print(f\"   - 최소: {time_diff_stats['min']:.2f}시간\")"
   ]
  },
  {
   "cell_type": "markdown",
   "metadata": {},
   "source": [
    "## 8. 결론 및 개선점"
   ]
  },
  {
   "cell_type": "code",
   "execution_count": null,
   "metadata": {},
   "outputs": [],
   "source": [
    "print(\"=== 분석 결론 ===\")\n",
    "print(\"\")\n",
    "print(\"1. 성능 측면:\")\n",
    "if 'makespan' in comparison_df.index:\n",
    "    makespan_pct = comparison_df.loc['makespan', '차이율(%)']\n",
    "    if makespan_pct > 0:\n",
    "        print(f\"   - Level 4가 Main.py보다 {makespan_pct:.1f}% 더 오래 걸림\")\n",
    "    else:\n",
    "        print(f\"   - Level 4가 Main.py보다 {-makespan_pct:.1f}% 더 빠름\")\n",
    "\n",
    "print(\"\")\n",
    "print(\"2. 스케줄링 방식 차이:\")\n",
    "print(f\"   - 작업 순서가 다른 기계: {len(sequence_differences)}개\")\n",
    "print(f\"   - 이는 Level 4의 다른 우선순위 로직 때문으로 추정\")\n",
    "\n",
    "print(\"\")\n",
    "print(\"3. 개선 방향:\")\n",
    "if 'makespan' in comparison_df.index and comparison_df.loc['makespan', '차이율(%)'] > 0:\n",
    "    print(\"   - Level 4 전략의 Setup 최소화 로직 재검토 필요\")\n",
    "    print(\"   - Window 크기나 우선순위 계산 방식 조정 고려\")\n",
    "else:\n",
    "    print(\"   - Level 4 전략이 더 효율적인 결과를 보임\")\n",
    "    print(\"   - 추가 최적화를 통해 더 나은 성능 기대 가능\")\n",
    "\n",
    "print(\"\")\n",
    "print(\"4. 다음 단계:\")\n",
    "print(\"   - 차이가 큰 기계들의 작업 패턴 상세 분석\")\n",
    "print(\"   - Setup time 계산 로직 검증\")\n",
    "print(\"   - 다양한 파라미터 조합 실험\")"
   ]
  }
 ],
 "metadata": {
  "kernelspec": {
   "display_name": "Python 3 (ipykernel)",
   "language": "python",
   "name": "python3"
  },
  "language_info": {
   "codemirror_mode": {
    "name": "ipython",
    "version": 3
   },
   "file_extension": ".py",
   "mimetype": "text/x-python",
   "name": "python",
   "nbconvert_exporter": "python",
   "pygments_lexer": "ipython3",
   "version": "3.11.4"
  }
 },
 "nbformat": 4,
 "nbformat_minor": 4
}
