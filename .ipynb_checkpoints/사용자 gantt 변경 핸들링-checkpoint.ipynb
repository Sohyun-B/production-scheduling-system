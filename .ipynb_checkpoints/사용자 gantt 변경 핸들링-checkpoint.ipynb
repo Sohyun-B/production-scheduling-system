{
  "cells": [
    {
      "cell_type": "code",
      "execution_count": 1,
      "id": "23cd3c4b-06a9-49e0-ae35-c9d594df309e",
      "metadata": {},
      "outputs": [],
      "source": [
        "import pandas as pd\n",
        "\n",
        "gantt_input = pd.read_excel(\"간트 인풋 데이터.xlsx\", sheet_name = \"Sheet1\")\n",
        "gantt_output = pd.read_excel(\"updated_timeline_data (1).xlsx\", sheet_name = \"Timeline Data\")"
      ]
    },
    {
      "cell_type": "markdown",
      "id": "9d373b26-884b-4a41-8603-beca3261756b",
      "metadata": {},
      "source": [
        "## 1. 할당 기계가 바뀐 경우 makespan 재계산"
      ]
    },
    {
      "cell_type": "code",
      "execution_count": 5,
      "id": "5caf687e-2982-4735-b5e2-88ef162a1b65",
      "metadata": {},
      "outputs": [
        {
          "data": {
            "text/html": [
              "<div>\n",
              "<style scoped>\n",
              "    .dataframe tbody tr th:only-of-type {\n",
              "        vertical-align: middle;\n",
              "    }\n",
              "\n",
              "    .dataframe tbody tr th {\n",
              "        vertical-align: top;\n",
              "    }\n",
              "\n",
              "    .dataframe thead th {\n",
              "        text-align: right;\n",
              "    }\n",
              "</style>\n",
              "<table border=\"1\" class=\"dataframe\">\n",
              "  <thead>\n",
              "    <tr style=\"text-align: right;\">\n",
              "      <th></th>\n",
              "      <th>id</th>\n",
              "      <th>input_machine</th>\n",
              "      <th>output_machine</th>\n",
              "    </tr>\n",
              "  </thead>\n",
              "  <tbody>\n",
              "    <tr>\n",
              "      <th>1</th>\n",
              "      <td>25278-유광 S/R-1500-T02149-0-M6</td>\n",
              "      <td>27</td>\n",
              "      <td>31</td>\n",
              "    </tr>\n",
              "    <tr>\n",
              "      <th>5</th>\n",
              "      <td>30566-투명점착-1500-W1818-0-M6</td>\n",
              "      <td>27</td>\n",
              "      <td>25</td>\n",
              "    </tr>\n",
              "    <tr>\n",
              "      <th>9</th>\n",
              "      <td>31361-안료접착-1500-T02403-0-M7</td>\n",
              "      <td>26</td>\n",
              "      <td>27</td>\n",
              "    </tr>\n",
              "    <tr>\n",
              "      <th>28</th>\n",
              "      <td>32730-인쇄-1500-배합X-0-M7</td>\n",
              "      <td>25</td>\n",
              "      <td>26</td>\n",
              "    </tr>\n",
              "    <tr>\n",
              "      <th>29</th>\n",
              "      <td>32730-안료접착-1500-T02493-0-M7</td>\n",
              "      <td>26</td>\n",
              "      <td>27</td>\n",
              "    </tr>\n",
              "  </tbody>\n",
              "</table>\n",
              "</div>"
            ],
            "text/plain": [
              "                               id  input_machine  output_machine\n",
              "1   25278-유광 S/R-1500-T02149-0-M6             27              31\n",
              "5      30566-투명점착-1500-W1818-0-M6             27              25\n",
              "9     31361-안료접착-1500-T02403-0-M7             26              27\n",
              "28         32730-인쇄-1500-배합X-0-M7             25              26\n",
              "29    32730-안료접착-1500-T02493-0-M7             26              27"
            ]
          },
          "execution_count": 5,
          "metadata": {},
          "output_type": "execute_result"
        }
      ],
      "source": [
        "def changed_machine(gantt_input, gantt_output):\n",
        "    gantt_input = gantt_input[['id', 'machine']].rename(columns = {\"machine\":\"input_machine\"})\n",
        "    gantt_output = gantt_output[['id', 'machine']].rename(columns = {\"machine\":\"output_machine\"})\n",
        "    \n",
        "    merged = pd.merge(gantt_input, gantt_output, on = 'id')\n",
        "    diff_machines = merged[merged['input_machine'] != merged['output_machine']]\n",
        "    return diff_machines\n",
        "\n",
        "changed_machine(gantt_input, gantt_output)"
      ]
    },
    {
      "cell_type": "markdown",
      "id": "991d591c-af9c-4c8f-bb88-8284668beb2a",
      "metadata": {},
      "source": [
        "## 2. 기계 및 시간 고정하여 기계 재할당\n",
        "기존의 원래 방식의 DAG를 보존하는 방식이 필요한가?? WHY OR WHY NOT??\n",
        "\n",
        "기존 DAG 보존 필요 없다면 \n",
        "=> 기존 DAG를 RESET 시키고 scheduler.nodes에 재할당하여 스케줄링하면됨. \n",
        "\n",
        "기존 DAG 보존 필요 이유\n",
        "=> 원본유지 필요성?\n",
        "=> 발생 가능 문제점: 속도 문제.\n",
        "\n",
        "\n",
        "- 특정 기계 고정해서 할당하는 로직 필요\n",
        "  opnode 자동생성## 2. 기계 및 시간 고정하여 기계 재할당\n",
        "기존의 원래 방식의 DAG를 보존하는 방식이 필요한가?? WHY OR WHY NOT??\n",
        "\n",
        "기존 DAG 보존 필요 없다면 \n",
        "=> 기존 DAG를 RESET 시키고 scheduler.nodes에 재할당하여 스케줄링하면됨. \n",
        "\n",
        "기존 DAG 보존 필요 이유\n",
        "=> 원본유지 필요성?\n",
        "=> 발생 가능 문제점: 속도 문제.\n",
        "\n",
        "\n",
        "- 특정 기계 고정해서 할당하는 로직 필요\n",
        "  opnode 자동생성"
      ]
    },
    {
      "cell_type": "code",
      "execution_count": null,
      "id": "694bc35d",
      "metadata": {},
      "outputs": [],
      "source": [
        "1. 가능하지 않은 변화는 미리 제어\n",
        "2. 가능한 변화는 "
      ]
    },
    {
      "cell_type": "code",
      "execution_count": null,
      "id": "cbb89e54-e545-4636-87a9-39c4cbc7b475",
      "metadata": {},
      "outputs": [],
      "source": [
        "# 스케줄러에 강제 할당 로직 추가 \n",
        "# DAG의 PARENT_NODE_COUNT, MACHINE_NAME할당 관련만 리셋할 수 있으면 됨.\n",
        "# 어차피 스케줄 나왔으니까 기존 스케줄링 사용 필요 XX\n"
      ]
    },
    {
      "cell_type": "code",
      "execution_count": null,
      "id": "54bd3ed2-a85b-4872-a8fd-d599be9c8f41",
      "metadata": {},
      "outputs": [],
      "source": []
    },
    {
      "cell_type": "code",
      "execution_count": null,
      "id": "1d45fac0-f6a6-4941-8cdf-5aed64a7d49e",
      "metadata": {},
      "outputs": [],
      "source": [
        "def changed_machine(gantt_input, gantt_output):\n",
        "    gantt_input = gantt_input[['id', 'machine']].rename(columns = {\"machine\":\"input_machine\"})\n",
        "    gantt_output = gantt_output[['id', 'machine']].rename(columns = {\"machine\":\"output_machine\"})\n",
        "    \n",
        "    merged = pd.merge(gantt_input, gantt_output, on = 'id')\n",
        "    diff_machines = merged[merged['input_machine'] != merged['output_machine']]\n",
        "    return diff_machines\n",
        "\n",
        "changed_machine(gantt_input, gantt_output)"
      ]
    }
  ],
  "metadata": {
    "kernelspec": {
      "display_name": "Python 3 (ipykernel)",
      "language": "python",
      "name": "python3"
    },
    "language_info": {
      "codemirror_mode": {
        "name": "ipython",
        "version": 3
      },
      "file_extension": ".py",
      "mimetype": "text/x-python",
      "name": "python",
      "nbconvert_exporter": "python",
      "pygments_lexer": "ipython3",
      "version": "3.11.4"
    }
  },
  "nbformat": 4,
  "nbformat_minor": 5
}
